{
 "cells": [
  {
   "cell_type": "markdown",
   "id": "1db56383",
   "metadata": {},
   "source": [
    "# NAME - KINJAL HUNDIWALA"
   ]
  },
  {
   "cell_type": "markdown",
   "id": "0e06bf09",
   "metadata": {},
   "source": [
    "#IMPORT LIBRARIES"
   ]
  },
  {
   "cell_type": "code",
   "execution_count": 44,
   "id": "00d2bbbe",
   "metadata": {},
   "outputs": [],
   "source": [
    "import pandas as pd\n",
    "import numpy as np \n",
    "import matplotlib.pyplot as plt\n",
    "import seaborn as sns\n",
    "%matplotlib inline"
   ]
  },
  {
   "cell_type": "markdown",
   "id": "995ed14f",
   "metadata": {},
   "source": [
    "QUESTION --> Write Python code to calculate factorial of an integer.\n",
    "  "
   ]
  },
  {
   "cell_type": "code",
   "execution_count": 43,
   "id": "9ddaeeb2",
   "metadata": {},
   "outputs": [
    {
     "name": "stdout",
     "output_type": "stream",
     "text": [
      "Enter a number: 10\n",
      "The factorial of 10 is 3628800\n"
     ]
    }
   ],
   "source": [
    "num = int(input(\"Enter a number: \"))    \n",
    "factorial = 1    \n",
    "if num < 0:    \n",
    "   print(\" Factorial does not exist for negative numbers\")    \n",
    "elif num == 0:    \n",
    "   print(\"The factorial of 0 is 1\")    \n",
    "else:    \n",
    "   for i in range(1,num + 1):    \n",
    "       factorial = factorial*i    \n",
    "   print(\"The factorial of\",num,\"is\",factorial) "
   ]
  },
  {
   "cell_type": "code",
   "execution_count": 3,
   "id": "b13bedbb",
   "metadata": {},
   "outputs": [
    {
     "data": {
      "text/html": [
       "<div>\n",
       "<style scoped>\n",
       "    .dataframe tbody tr th:only-of-type {\n",
       "        vertical-align: middle;\n",
       "    }\n",
       "\n",
       "    .dataframe tbody tr th {\n",
       "        vertical-align: top;\n",
       "    }\n",
       "\n",
       "    .dataframe thead th {\n",
       "        text-align: right;\n",
       "    }\n",
       "</style>\n",
       "<table border=\"1\" class=\"dataframe\">\n",
       "  <thead>\n",
       "    <tr style=\"text-align: right;\">\n",
       "      <th></th>\n",
       "      <th>Name</th>\n",
       "      <th>Last_name</th>\n",
       "      <th>Subject</th>\n",
       "    </tr>\n",
       "  </thead>\n",
       "  <tbody>\n",
       "    <tr>\n",
       "      <th>0</th>\n",
       "      <td>Anna</td>\n",
       "      <td>James</td>\n",
       "      <td>Maths</td>\n",
       "    </tr>\n",
       "    <tr>\n",
       "      <th>1</th>\n",
       "      <td>Allie</td>\n",
       "      <td>Grater</td>\n",
       "      <td>English</td>\n",
       "    </tr>\n",
       "    <tr>\n",
       "      <th>2</th>\n",
       "      <td>Liz</td>\n",
       "      <td>Erd</td>\n",
       "      <td>Maths</td>\n",
       "    </tr>\n",
       "    <tr>\n",
       "      <th>3</th>\n",
       "      <td>Paige</td>\n",
       "      <td>Turner</td>\n",
       "      <td>Science</td>\n",
       "    </tr>\n",
       "    <tr>\n",
       "      <th>4</th>\n",
       "      <td>Chris</td>\n",
       "      <td>Anthemum</td>\n",
       "      <td>Science</td>\n",
       "    </tr>\n",
       "    <tr>\n",
       "      <th>5</th>\n",
       "      <td>Ben</td>\n",
       "      <td>Dover</td>\n",
       "      <td>English</td>\n",
       "    </tr>\n",
       "    <tr>\n",
       "      <th>6</th>\n",
       "      <td>Jane</td>\n",
       "      <td>Doe</td>\n",
       "      <td>English</td>\n",
       "    </tr>\n",
       "    <tr>\n",
       "      <th>7</th>\n",
       "      <td>Neil</td>\n",
       "      <td>Down</td>\n",
       "      <td>Maths</td>\n",
       "    </tr>\n",
       "    <tr>\n",
       "      <th>8</th>\n",
       "      <td>Sarah</td>\n",
       "      <td>Moanees</td>\n",
       "      <td>Science</td>\n",
       "    </tr>\n",
       "  </tbody>\n",
       "</table>\n",
       "</div>"
      ],
      "text/plain": [
       "     Name Last_name  Subject\n",
       "0   Anna      James    Maths\n",
       "1  Allie     Grater  English\n",
       "2    Liz        Erd    Maths\n",
       "3  Paige     Turner  Science\n",
       "4  Chris   Anthemum  Science\n",
       "5    Ben      Dover  English\n",
       "6   Jane        Doe  English\n",
       "7   Neil       Down    Maths\n",
       "8  Sarah    Moanees  Science"
      ]
     },
     "execution_count": 3,
     "metadata": {},
     "output_type": "execute_result"
    }
   ],
   "source": [
    "data1 = pd.read_csv(\"C:/Users/Convergytics/OneDrive - Convergytics Solutions Private Limited/Desktop/Student_data.csv\")\n",
    "data1.head(n=10)"
   ]
  },
  {
   "cell_type": "markdown",
   "id": "6f1fccd1",
   "metadata": {},
   "source": [
    "# CONCLUSION --> As data is splited into name and last name column and as data is not numeric so by visual we can interprit as Maths was choosen by 3 student( anna,liz,neil) , English was also choosen by 3 student (allie,ben,jane) and Science by 3 student( paige,chris,sarah)"
   ]
  },
  {
   "cell_type": "code",
   "execution_count": 5,
   "id": "e749e065",
   "metadata": {},
   "outputs": [
    {
     "data": {
      "text/html": [
       "<div>\n",
       "<style scoped>\n",
       "    .dataframe tbody tr th:only-of-type {\n",
       "        vertical-align: middle;\n",
       "    }\n",
       "\n",
       "    .dataframe tbody tr th {\n",
       "        vertical-align: top;\n",
       "    }\n",
       "\n",
       "    .dataframe thead th {\n",
       "        text-align: right;\n",
       "    }\n",
       "</style>\n",
       "<table border=\"1\" class=\"dataframe\">\n",
       "  <thead>\n",
       "    <tr style=\"text-align: right;\">\n",
       "      <th></th>\n",
       "      <th>First_Name</th>\n",
       "      <th>Sur_Name</th>\n",
       "      <th>Grade</th>\n",
       "      <th>Location</th>\n",
       "      <th>Function</th>\n",
       "      <th>ba</th>\n",
       "    </tr>\n",
       "  </thead>\n",
       "  <tbody>\n",
       "    <tr>\n",
       "      <th>0</th>\n",
       "      <td>Mahesh</td>\n",
       "      <td>Joshi</td>\n",
       "      <td>GR1</td>\n",
       "      <td>DELHI</td>\n",
       "      <td>SALES</td>\n",
       "      <td>17990.0</td>\n",
       "    </tr>\n",
       "    <tr>\n",
       "      <th>1</th>\n",
       "      <td>Rajesh</td>\n",
       "      <td>Kolte</td>\n",
       "      <td>GR1</td>\n",
       "      <td>DELHI</td>\n",
       "      <td>FINANCE</td>\n",
       "      <td>19250.0</td>\n",
       "    </tr>\n",
       "    <tr>\n",
       "      <th>2</th>\n",
       "      <td>Neha</td>\n",
       "      <td>Rao</td>\n",
       "      <td>GR1</td>\n",
       "      <td>DELHI</td>\n",
       "      <td>FINANCE</td>\n",
       "      <td>19235.0</td>\n",
       "    </tr>\n",
       "    <tr>\n",
       "      <th>3</th>\n",
       "      <td>Priya</td>\n",
       "      <td>Jain</td>\n",
       "      <td>GR1</td>\n",
       "      <td>DELHI</td>\n",
       "      <td>SALES</td>\n",
       "      <td>23280.0</td>\n",
       "    </tr>\n",
       "    <tr>\n",
       "      <th>4</th>\n",
       "      <td>Sneha</td>\n",
       "      <td>Joshi</td>\n",
       "      <td>GR1</td>\n",
       "      <td>DELHI</td>\n",
       "      <td>FINANCE</td>\n",
       "      <td>20660.0</td>\n",
       "    </tr>\n",
       "    <tr>\n",
       "      <th>5</th>\n",
       "      <td>Mahesh</td>\n",
       "      <td>Rane</td>\n",
       "      <td>GR1</td>\n",
       "      <td>DELHI</td>\n",
       "      <td>TECHNICAL</td>\n",
       "      <td>23160.0</td>\n",
       "    </tr>\n",
       "    <tr>\n",
       "      <th>6</th>\n",
       "      <td>Ram</td>\n",
       "      <td>Kanade</td>\n",
       "      <td>GR1</td>\n",
       "      <td>DELHI</td>\n",
       "      <td>TECHNICAL</td>\n",
       "      <td>20160.0</td>\n",
       "    </tr>\n",
       "    <tr>\n",
       "      <th>7</th>\n",
       "      <td>Nishi</td>\n",
       "      <td>Honrao</td>\n",
       "      <td>GR1</td>\n",
       "      <td>DELHI</td>\n",
       "      <td>TECHNICAL</td>\n",
       "      <td>20460.0</td>\n",
       "    </tr>\n",
       "    <tr>\n",
       "      <th>8</th>\n",
       "      <td>Nishi</td>\n",
       "      <td>Kulkarni</td>\n",
       "      <td>GR1</td>\n",
       "      <td>NaN</td>\n",
       "      <td>SALES</td>\n",
       "      <td>22620.0</td>\n",
       "    </tr>\n",
       "    <tr>\n",
       "      <th>9</th>\n",
       "      <td>Hameed</td>\n",
       "      <td>Singh</td>\n",
       "      <td>GR1</td>\n",
       "      <td>DELHI</td>\n",
       "      <td>SALES</td>\n",
       "      <td>23720.0</td>\n",
       "    </tr>\n",
       "  </tbody>\n",
       "</table>\n",
       "</div>"
      ],
      "text/plain": [
       "  First_Name  Sur_Name Grade Location   Function       ba\n",
       "0    Mahesh      Joshi   GR1    DELHI      SALES  17990.0\n",
       "1     Rajesh     Kolte   GR1    DELHI    FINANCE  19250.0\n",
       "2       Neha       Rao   GR1    DELHI    FINANCE  19235.0\n",
       "3      Priya      Jain   GR1    DELHI      SALES  23280.0\n",
       "4      Sneha     Joshi   GR1    DELHI    FINANCE  20660.0\n",
       "5     Mahesh      Rane   GR1    DELHI  TECHNICAL  23160.0\n",
       "6        Ram    Kanade   GR1    DELHI  TECHNICAL  20160.0\n",
       "7      Nishi    Honrao   GR1    DELHI  TECHNICAL  20460.0\n",
       "8      Nishi  Kulkarni   GR1      NaN      SALES  22620.0\n",
       "9     Hameed     Singh   GR1    DELHI      SALES  23720.0"
      ]
     },
     "execution_count": 5,
     "metadata": {},
     "output_type": "execute_result"
    }
   ],
   "source": [
    "data = pd.read_csv(\"C:/Users/Convergytics/OneDrive - Convergytics Solutions Private Limited/Desktop/analysis_data.csv\")\n",
    "data.head(n=10)"
   ]
  },
  {
   "cell_type": "code",
   "execution_count": 6,
   "id": "d598cf15",
   "metadata": {},
   "outputs": [
    {
     "data": {
      "text/html": [
       "<div>\n",
       "<style scoped>\n",
       "    .dataframe tbody tr th:only-of-type {\n",
       "        vertical-align: middle;\n",
       "    }\n",
       "\n",
       "    .dataframe tbody tr th {\n",
       "        vertical-align: top;\n",
       "    }\n",
       "\n",
       "    .dataframe thead th {\n",
       "        text-align: right;\n",
       "    }\n",
       "</style>\n",
       "<table border=\"1\" class=\"dataframe\">\n",
       "  <thead>\n",
       "    <tr style=\"text-align: right;\">\n",
       "      <th></th>\n",
       "      <th>ba</th>\n",
       "    </tr>\n",
       "  </thead>\n",
       "  <tbody>\n",
       "    <tr>\n",
       "      <th>count</th>\n",
       "      <td>39.000000</td>\n",
       "    </tr>\n",
       "    <tr>\n",
       "      <th>mean</th>\n",
       "      <td>17209.743590</td>\n",
       "    </tr>\n",
       "    <tr>\n",
       "      <th>std</th>\n",
       "      <td>4159.515241</td>\n",
       "    </tr>\n",
       "    <tr>\n",
       "      <th>min</th>\n",
       "      <td>10940.000000</td>\n",
       "    </tr>\n",
       "    <tr>\n",
       "      <th>25%</th>\n",
       "      <td>13785.000000</td>\n",
       "    </tr>\n",
       "    <tr>\n",
       "      <th>50%</th>\n",
       "      <td>16230.000000</td>\n",
       "    </tr>\n",
       "    <tr>\n",
       "      <th>75%</th>\n",
       "      <td>19305.000000</td>\n",
       "    </tr>\n",
       "    <tr>\n",
       "      <th>max</th>\n",
       "      <td>29080.000000</td>\n",
       "    </tr>\n",
       "  </tbody>\n",
       "</table>\n",
       "</div>"
      ],
      "text/plain": [
       "                 ba\n",
       "count     39.000000\n",
       "mean   17209.743590\n",
       "std     4159.515241\n",
       "min    10940.000000\n",
       "25%    13785.000000\n",
       "50%    16230.000000\n",
       "75%    19305.000000\n",
       "max    29080.000000"
      ]
     },
     "execution_count": 6,
     "metadata": {},
     "output_type": "execute_result"
    }
   ],
   "source": [
    "data.describe()"
   ]
  },
  {
   "cell_type": "code",
   "execution_count": 7,
   "id": "97348306",
   "metadata": {},
   "outputs": [
    {
     "name": "stdout",
     "output_type": "stream",
     "text": [
      "        ba\n",
      "0  17990.0\n",
      "1  19250.0\n",
      "2  19235.0\n",
      "3  23280.0\n",
      "4  20660.0\n",
      "5  23160.0\n",
      "6  20160.0\n",
      "7  20460.0\n",
      "8  22620.0\n",
      "9  23720.0\n",
      "AxesSubplot(0.125,0.125;0.775x0.755)\n"
     ]
    },
    {
     "data": {
      "image/png": "[encoded data removed]",
      "text/plain": [
       "<Figure size 432x288 with 1 Axes>"
      ]
     },
     "metadata": {
      "needs_background": "light"
     },
     "output_type": "display_data"
    }
   ],
   "source": [
    "variation_for_ba =pd.DataFrame(data,columns=['ba'])\n",
    "print(variation_for_ba.head(n=10))\n",
    "print(variation_for_ba.plot())"
   ]
  },
  {
   "cell_type": "markdown",
   "id": "76c8ad4a",
   "metadata": {},
   "source": [
    "# CONCLUSION --> AS from data we found that there is fluctuation.. there is no proper trend ... As it was highest for yogita and raj for GR1 grade and after that the data in going downward ..so we can say that GR2 grade is giving low grade compare to GR1"
   ]
  },
  {
   "cell_type": "code",
   "execution_count": 8,
   "id": "ca4a624f",
   "metadata": {},
   "outputs": [
    {
     "name": "stderr",
     "output_type": "stream",
     "text": [
      "C:\\Users\\Convergytics\\anaconda3\\lib\\site-packages\\seaborn\\_decorators.py:36: FutureWarning: Pass the following variables as keyword args: x, y. From version 0.12, the only valid positional argument will be `data`, and passing other arguments without an explicit keyword will result in an error or misinterpretation.\n",
      "  warnings.warn(\n"
     ]
    },
    {
     "data": {
      "text/plain": [
       "<AxesSubplot:xlabel='Grade', ylabel='ba'>"
      ]
     },
     "execution_count": 8,
     "metadata": {},
     "output_type": "execute_result"
    },
    {
     "data": {
      "image/png": "[encoded data removed]",
      "text/plain": [
       "<Figure size 432x288 with 1 Axes>"
      ]
     },
     "metadata": {
      "needs_background": "light"
     },
     "output_type": "display_data"
    }
   ],
   "source": [
    "sns.barplot(data['Grade'],data['ba'])"
   ]
  },
  {
   "cell_type": "markdown",
   "id": "0418d929",
   "metadata": {},
   "source": [
    "# CONCLUSION--> As from the data the GR1 and GR2 , we found that GR1 is highest as compare to GR2"
   ]
  },
  {
   "cell_type": "code",
   "execution_count": 48,
   "id": "6796da71",
   "metadata": {},
   "outputs": [
    {
     "data": {
      "image/png": "[encoded data removed]",
      "text/plain": [
       "<Figure size 864x432 with 1 Axes>"
      ]
     },
     "metadata": {
      "needs_background": "light"
     },
     "output_type": "display_data"
    }
   ],
   "source": [
    "plt.figure(figsize=(12,6))\n",
    "data['ba'].hist(bins=10)\n",
    "plt.show()"
   ]
  },
  {
   "cell_type": "markdown",
   "id": "2737a766",
   "metadata": {},
   "source": [
    "# CONCLUSION --> From the above visulization ,we can see that 'ba' grades for GR2 are decresing. so for the student of grade GR2 should be given more attension."
   ]
  },
  {
   "cell_type": "markdown",
   "id": "0434585f",
   "metadata": {},
   "source": [
    "QUESTION --> You are given a string and your task is to swap cases. In other words, convert all lowercase letters to uppercase letters and vice versa.\n",
    "\n"
   ]
  },
  {
   "cell_type": "code",
   "execution_count": 42,
   "id": "e7838969",
   "metadata": {},
   "outputs": [
    {
     "name": "stdout",
     "output_type": "stream",
     "text": [
      "x = HUNDIWALA\n",
      "y = KINJAL\n"
     ]
    }
   ],
   "source": [
    "x = 'kinjal'\n",
    "y = 'hundiwala'\n",
    "\n",
    "x, y = y, x\n",
    "print(\"x =\", 'HUNDIWALA')\n",
    "print(\"y =\", 'KINJAL')"
   ]
  },
  {
   "cell_type": "markdown",
   "id": "3a4b42b6",
   "metadata": {},
   "source": [
    "QUESTION --> Write a function to split and give sentence by delimiter “ ” (Space) and join back using “-” hyphen\n",
    "\n",
    "\n",
    "\n",
    " "
   ]
  },
  {
   "cell_type": "code",
   "execution_count": 1,
   "id": "4f2c88c7",
   "metadata": {},
   "outputs": [
    {
     "name": "stdout",
     "output_type": "stream",
     "text": [
      "['Have', 'a', 'good', 'day']\n",
      "Have-a-good-day\n"
     ]
    },
    {
     "data": {
      "text/plain": [
       "'Have-a-good-day'"
      ]
     },
     "execution_count": 1,
     "metadata": {},
     "output_type": "execute_result"
    }
   ],
   "source": [
    "data2 = \"Have a good day\"\n",
    "data2 = data2.split(\" \")  \n",
    "print(data2)\n",
    "['Have', 'a', 'good', 'day']\n",
    "\n",
    "data3 = \"-\".join(data2)\n",
    "print(data3)\n",
    "\"Have-a-good-day\""
   ]
  },
  {
   "cell_type": "markdown",
   "id": "cea0894f",
   "metadata": {},
   "source": [
    "QUESTION --> Write a function which will check if a string is composed of alphabetical characters, alphanumeric characters, digits.\n",
    "For example –\n",
    "If string is ‘abc123’ then it should give output as ‘String is alphanumeric’.\n",
    "\n",
    "\n"
   ]
  },
  {
   "cell_type": "code",
   "execution_count": 40,
   "id": "1ac6f6fd",
   "metadata": {},
   "outputs": [
    {
     "name": "stdout",
     "output_type": "stream",
     "text": [
      "String is alphanumeric\n"
     ]
    }
   ],
   "source": [
    "text = \"ABC123\"\n",
    "\n",
    "if text.isalnum() == True:\n",
    "   print(\"String is alphanumeric\")\n",
    "else:\n",
    "    print(\"String is alphanumeric\")"
   ]
  },
  {
   "cell_type": "code",
   "execution_count": null,
   "id": "229658e2",
   "metadata": {},
   "outputs": [],
   "source": []
  }
 ],
 "metadata": {
  "kernelspec": {
   "display_name": "Python 3 (ipykernel)",
   "language": "python",
   "name": "python3"
  },
  "language_info": {
   "codemirror_mode": {
    "name": "ipython",
    "version": 3
   },
   "file_extension": ".py",
   "mimetype": "text/x-python",
   "name": "python",
   "nbconvert_exporter": "python",
   "pygments_lexer": "ipython3",
   "version": "3.9.7"
  }
 },
 "nbformat": 4,
 "nbformat_minor": 5
}
